{
 "cells": [
  {
   "cell_type": "markdown",
   "metadata": {},
   "source": [
    "Python Basics\n",
    "Assignment3\n",
    "\n",
    "1. Functions provide code reusability, reduces redundancy (no need to write the code again), neatness of the code and at times due to abstraction user shouldn't be able to see the implementation of the function and hence calling the function will produce an outcome, however implementation is hidden. Functions also allow dividing a problem into small modules.\n",
    "\n",
    "2. When a function is called.\n",
    "\n",
    "3. def function_name(arguments..): --> creates a function\n",
    "\n",
    "4. A function refers to a function definition. A function call will invoke the function and execute the lines of code written inside the function.\n",
    "\n",
    "5. There is only one global scope for the program and many local scopes depending on the blocks.\n",
    "\n",
    "6. After the function call is complete, the local variable becomes undefined outside the function.\n",
    "\n",
    "7. return will pass the control back to the caller. Usually returns some value. Yes an expression resulting in a value can also be returned.\n",
    "\n",
    "8. If return statement is without any value/expression, it returns None.\n",
    "\n",
    "9. Use a global keyboard before variable name.\n",
    "\n",
    "10. None is of NoneType or simply None.\n",
    "\n",
    "11. The statement is importing the entire package/module.\n",
    "\n",
    "12. I would call it as:\n",
    "\n",
    "import spam\n",
    "spam.bacon()\n",
    "\n",
    "13. Using try..except.. block.\n",
    "\n",
    "14. try block will execute the lines of code and if there is any error, will pass on the error to the except block depending on the type of exception mentioned - to handle it without crashing the program."
   ]
  }
 ],
 "metadata": {
  "kernelspec": {
   "display_name": "Python 3",
   "language": "python",
   "name": "python3"
  },
  "language_info": {
   "codemirror_mode": {
    "name": "ipython",
    "version": 3
   },
   "file_extension": ".py",
   "mimetype": "text/x-python",
   "name": "python",
   "nbconvert_exporter": "python",
   "pygments_lexer": "ipython3",
   "version": "3.8.3"
  }
 },
 "nbformat": 4,
 "nbformat_minor": 4
}
