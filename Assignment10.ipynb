{
 "cells": [
  {
   "cell_type": "code",
   "execution_count": 1,
   "metadata": {},
   "outputs": [],
   "source": [
    "#1 shutil.copy() will copy a single file, shutil.copytree() will copy an entire folder and every folder and file in it.\n",
    "\n",
    "#2 shutil.move('C:\\\\old_filename.txt', 'C:\\\\eggs\\\\new_filename.txt')\n",
    "\n",
    "#3 send2trash is a safe delete option - sends it to recycle bin, as compared to rmdir of shutil\n",
    "\n",
    "#4 zipfile.ZipFile() function is similar to open() function for files\n"
   ]
  },
  {
   "cell_type": "code",
   "execution_count": 8,
   "metadata": {},
   "outputs": [
    {
     "name": "stdout",
     "output_type": "stream",
     "text": [
      "Done\n"
     ]
    }
   ],
   "source": [
    "#5\n",
    "\n",
    "import os, shutil\n",
    "\n",
    "def copy(folder, extensions, destination):\n",
    "    folder = os.path.abspath(folder)\n",
    "    destination = os.path.abspath(destination)\n",
    "    for folders, subfolders, files in os.walk(folder):\n",
    "        for file in files:\n",
    "            name, extension = os.path.splitext(file)\n",
    "            if extension in extensions:\n",
    "                fileAbsPath = folders + os.path.sep + file\n",
    "                shutil.copy(fileAbsPath, destination)\n",
    "\n",
    "extensions = ['.pdf', '.jpg']\n",
    "folder = 'D:\\\\Before'\n",
    "destination = 'D:\\\\After'\n",
    "copy(folder, extensions, destination)\n",
    "print(\"Done\")"
   ]
  },
  {
   "cell_type": "code",
   "execution_count": null,
   "metadata": {},
   "outputs": [],
   "source": []
  }
 ],
 "metadata": {
  "kernelspec": {
   "display_name": "Python 3",
   "language": "python",
   "name": "python3"
  },
  "language_info": {
   "codemirror_mode": {
    "name": "ipython",
    "version": 3
   },
   "file_extension": ".py",
   "mimetype": "text/x-python",
   "name": "python",
   "nbconvert_exporter": "python",
   "pygments_lexer": "ipython3",
   "version": "3.8.3"
  }
 },
 "nbformat": 4,
 "nbformat_minor": 4
}
