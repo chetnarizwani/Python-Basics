{
 "cells": [
  {
   "cell_type": "code",
   "execution_count": 1,
   "metadata": {},
   "outputs": [
    {
     "name": "stdout",
     "output_type": "stream",
     "text": [
      "[11, 13, 15]\n",
      "[17, 19, 21]\n",
      "[23, 25, 27]\n"
     ]
    }
   ],
   "source": [
    "#1\n",
    "\n",
    "X = [[1,2,3],\n",
    "    [4,5,6],\n",
    "    [7,8,9]]\n",
    " \n",
    "Y = [[10,11,12],\n",
    "    [13,14,15],\n",
    "    [16,17,18]]\n",
    "\n",
    "sum = [[0,0,0],\n",
    "        [0,0,0],\n",
    "        [0,0,0]]\n",
    "\n",
    "for i in range(len(X)):  \n",
    "    for j in range(len(X[0])):\n",
    "        sum[i][j] = X[i][j] + Y[i][j]\n",
    "        \n",
    "for i in sum:\n",
    "    print(i)"
   ]
  },
  {
   "cell_type": "code",
   "execution_count": 2,
   "metadata": {},
   "outputs": [
    {
     "name": "stdout",
     "output_type": "stream",
     "text": [
      "[84, 90, 96]\n",
      "[201, 216, 231]\n",
      "[318, 342, 366]\n"
     ]
    }
   ],
   "source": [
    "#2\n",
    "\n",
    "A = [[1,2,3],\n",
    "    [4,5,6],\n",
    "    [7,8,9]]\n",
    "  \n",
    "    \n",
    "B = [[10,11,12],\n",
    "    [13,14,15],\n",
    "    [16,17,18]]\n",
    "      \n",
    "mult = [[0, 0, 0],\n",
    "        [0, 0, 0],\n",
    "        [0, 0, 0]]\n",
    "  \n",
    "\n",
    "for i in range(len(A)):\n",
    "    for j in range(len(B[0])):\n",
    "        for k in range(len(B)):\n",
    "            mult[i][j] += A[i][k] * B[k][j]\n",
    "\n",
    "for i in mult:\n",
    "    print(i)"
   ]
  },
  {
   "cell_type": "code",
   "execution_count": 3,
   "metadata": {},
   "outputs": [
    {
     "name": "stdout",
     "output_type": "stream",
     "text": [
      "[1, 3, 5]\n",
      "[2, 4, 6]\n"
     ]
    }
   ],
   "source": [
    "#3\n",
    "\n",
    "X = [[1,2],\n",
    "    [3,4],\n",
    "    [5,6]]\n",
    "\n",
    "T = [[0,0,0],\n",
    "    [0,0,0]]\n",
    "\n",
    "for i in range(len(X)):\n",
    "    for j in range(len(X[0])):\n",
    "        T[j][i] = X[i][j]\n",
    "\n",
    "for i in T:\n",
    "    print(i)"
   ]
  },
  {
   "cell_type": "code",
   "execution_count": 5,
   "metadata": {},
   "outputs": [
    {
     "name": "stdout",
     "output_type": "stream",
     "text": [
      "Hello I am Chetna\n",
      "am\n",
      "Chetna\n",
      "Hello\n",
      "I\n"
     ]
    }
   ],
   "source": [
    "#4 \n",
    "\n",
    "string = input()  \n",
    "words = string.split()  \n",
    "sorted_list = sorted(words, key=str.casefold)\n",
    "for word in sorted_list:  \n",
    "    print(word)  "
   ]
  },
  {
   "cell_type": "code",
   "execution_count": 7,
   "metadata": {},
   "outputs": [
    {
     "name": "stdout",
     "output_type": "stream",
     "text": [
      "HelloMypetsnameisMillie\n"
     ]
    }
   ],
   "source": [
    "#5\n",
    "\n",
    "string = \"Hello! My pet's name is Millie.\"\n",
    "punc = '''!()-[]{};:'\"\\, <>./?@#$%^&*_~'''\n",
    "\n",
    "for i in string: \n",
    "    if i in punc: \n",
    "        string = string.replace(i, \"\") \n",
    "        \n",
    "print(string) "
   ]
  },
  {
   "cell_type": "code",
   "execution_count": null,
   "metadata": {},
   "outputs": [],
   "source": []
  }
 ],
 "metadata": {
  "kernelspec": {
   "display_name": "Python 3",
   "language": "python",
   "name": "python3"
  },
  "language_info": {
   "codemirror_mode": {
    "name": "ipython",
    "version": 3
   },
   "file_extension": ".py",
   "mimetype": "text/x-python",
   "name": "python",
   "nbconvert_exporter": "python",
   "pygments_lexer": "ipython3",
   "version": "3.8.3"
  }
 },
 "nbformat": 4,
 "nbformat_minor": 4
}
