{
 "cells": [
  {
   "cell_type": "code",
   "execution_count": null,
   "metadata": {},
   "outputs": [],
   "source": [
    "#1 PyPDF2\n",
    "\n",
    "#2 pdfReader.getPage(4)\n",
    "\n",
    "#3 numPages\n",
    "\n",
    "#4 pdfReader.decrypt('swordfish')\n",
    "\n",
    "#5 page.rotateClockwise(degree), page.rotateCounterClockwise(degree)\n",
    "\n",
    "#6 A Paragraph object contains Run objects\n",
    "\n",
    "#7 doc = docx.Document('test.docx')\n",
    "# doc.paragraphs\n",
    "\n",
    "#8 Run objects\n",
    "\n",
    "#9 True (always enabled, irrespective of what other styles are applied to the run object), \n",
    "# False (always disabled), \n",
    "# or None (defaults to whatever the run’s style is set to)\n",
    "\n",
    "#10 doc = docx.Document()\n",
    "\n",
    "#11 doc.add_paragraph('Hello, there!')\n",
    "\n",
    "#12 Integers 1 to 4 are heading levels, with 1 being the main heading and 4 the lowest subheading."
   ]
  }
 ],
 "metadata": {
  "kernelspec": {
   "display_name": "Python 3",
   "language": "python",
   "name": "python3"
  },
  "language_info": {
   "codemirror_mode": {
    "name": "ipython",
    "version": 3
   },
   "file_extension": ".py",
   "mimetype": "text/x-python",
   "name": "python",
   "nbconvert_exporter": "python",
   "pygments_lexer": "ipython3",
   "version": "3.8.3"
  }
 },
 "nbformat": 4,
 "nbformat_minor": 4
}
