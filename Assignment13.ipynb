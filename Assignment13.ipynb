{
 "cells": [
  {
   "cell_type": "code",
   "execution_count": 2,
   "metadata": {},
   "outputs": [],
   "source": [
    "#1 \n",
    "# - Data can have different data types\n",
    "# - Several formatting options\n",
    "# - Can have multiplle worksheets\n",
    "# - Cell widths can be modified\n",
    "# - Can have merged cells\n",
    "# - Can produce visuals\n",
    "# - Can have what-if analysis and many other features."
   ]
  },
  {
   "cell_type": "code",
   "execution_count": null,
   "metadata": {},
   "outputs": [],
   "source": [
    "#2 File object is passed to reader and writer objects"
   ]
  },
  {
   "cell_type": "code",
   "execution_count": null,
   "metadata": {},
   "outputs": [],
   "source": [
    "#3\n",
    "\n",
    "# r Opens a file for reading. (default)\n",
    "# w Opens a file for writing. Creates a new file if it does not exist or truncates the file if it exists.\n",
    "# x Opens a file for exclusive creation. If the file already exists, the operation fails.\n",
    "# a Opens a file for appending at the end of the file without truncating it. Creates a new file if it does not exist.\n",
    "# t Opens in text mode. (default)\n",
    "# b Opens in binary mode.\n",
    "# + Opens a file for updating (reading and writing)"
   ]
  },
  {
   "cell_type": "code",
   "execution_count": 3,
   "metadata": {},
   "outputs": [],
   "source": [
    "#4\n",
    "\n",
    "# The writerow() method of Writer object"
   ]
  },
  {
   "cell_type": "code",
   "execution_count": 4,
   "metadata": {},
   "outputs": [],
   "source": [
    "#5\n",
    "\n",
    "# The delimiter is the character that appears between cells on a row. \n",
    "# The line terminator is the character that comes at the end of a row. \n",
    "# The delimiter and lineterminator keyword arguments can be changed with csv.writer()."
   ]
  },
  {
   "cell_type": "code",
   "execution_count": 5,
   "metadata": {},
   "outputs": [],
   "source": [
    "#6\n",
    "\n",
    "# json.loads()"
   ]
  },
  {
   "cell_type": "code",
   "execution_count": 6,
   "metadata": {},
   "outputs": [],
   "source": [
    "#7\n",
    "\n",
    "# json.dumps()"
   ]
  },
  {
   "cell_type": "code",
   "execution_count": null,
   "metadata": {},
   "outputs": [],
   "source": []
  }
 ],
 "metadata": {
  "kernelspec": {
   "display_name": "Python 3",
   "language": "python",
   "name": "python3"
  },
  "language_info": {
   "codemirror_mode": {
    "name": "ipython",
    "version": 3
   },
   "file_extension": ".py",
   "mimetype": "text/x-python",
   "name": "python",
   "nbconvert_exporter": "python",
   "pygments_lexer": "ipython3",
   "version": "3.8.3"
  }
 },
 "nbformat": 4,
 "nbformat_minor": 4
}
