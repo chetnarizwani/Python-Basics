{
 "cells": [
  {
   "cell_type": "code",
   "execution_count": 1,
   "metadata": {},
   "outputs": [
    {
     "name": "stdout",
     "output_type": "stream",
     "text": [
      "12\n",
      "30\n",
      "60\n"
     ]
    }
   ],
   "source": [
    "#1. LCM\n",
    "\n",
    "x = int(input())\n",
    "y = int(input())\n",
    "if x > y:  \n",
    "    large = x  \n",
    "else:  \n",
    "    large = y  \n",
    "\n",
    "while(True):  \n",
    "    if((large % x == 0) and (large % y == 0)):  \n",
    "        lcm = large  \n",
    "        break  \n",
    "    large += 1  \n",
    "\n",
    "print(lcm)"
   ]
  },
  {
   "cell_type": "code",
   "execution_count": 3,
   "metadata": {},
   "outputs": [
    {
     "name": "stdout",
     "output_type": "stream",
     "text": [
      "12\n",
      "30\n",
      "6\n"
     ]
    }
   ],
   "source": [
    "#2. HCF\n",
    "\n",
    "x = int(input())\n",
    "y = int(input())\n",
    "if x < y:  \n",
    "    small = x  \n",
    "else:  \n",
    "    small = y  \n",
    "\n",
    "for i in range(1,small+1):  \n",
    "    if((x%i == 0) and (y%i == 0)):  \n",
    "        hcf = i  \n",
    "\n",
    "print(hcf)"
   ]
  },
  {
   "cell_type": "code",
   "execution_count": 10,
   "metadata": {},
   "outputs": [
    {
     "name": "stdout",
     "output_type": "stream",
     "text": [
      "20\n",
      "[1, 0, 1, 0, 0]\n",
      "[2, 4]\n",
      "[1, 4]\n"
     ]
    }
   ],
   "source": [
    "#3 \n",
    "\n",
    "x = int(input())\n",
    "b = x\n",
    "o = x\n",
    "h = x\n",
    "binary = []\n",
    "octal = []\n",
    "hexa = []\n",
    "while b >= 1:\n",
    "    binary.append(b%2)\n",
    "    b = b//2\n",
    "binary.reverse()\n",
    "print(binary)\n",
    "\n",
    "while o >= 1:\n",
    "    octal.append(o%8)\n",
    "    o = o//8\n",
    "octal.reverse()\n",
    "print(octal)\n",
    "\n",
    "while h >= 1:\n",
    "    hexa.append(h%16)\n",
    "    h = h//16\n",
    "hexa.reverse()\n",
    "print(hexa)\n"
   ]
  },
  {
   "cell_type": "code",
   "execution_count": 11,
   "metadata": {},
   "outputs": [
    {
     "name": "stdout",
     "output_type": "stream",
     "text": [
      "a\n",
      "97\n"
     ]
    }
   ],
   "source": [
    "#4\n",
    "\n",
    "c = input()\n",
    "print(ord(c))"
   ]
  },
  {
   "cell_type": "code",
   "execution_count": 12,
   "metadata": {},
   "outputs": [
    {
     "name": "stdout",
     "output_type": "stream",
     "text": [
      "5\n",
      "10\n",
      "15.0 -5.0 50.0 0.5\n"
     ]
    }
   ],
   "source": [
    "#5\n",
    "\n",
    "a = float(input())\n",
    "b = float(input())\n",
    "\n",
    "add = a+b\n",
    "sub = a-b\n",
    "mul = a*b\n",
    "div = a/b\n",
    "\n",
    "print(add,sub,mul,div)"
   ]
  },
  {
   "cell_type": "code",
   "execution_count": null,
   "metadata": {},
   "outputs": [],
   "source": []
  }
 ],
 "metadata": {
  "kernelspec": {
   "display_name": "Python 3",
   "language": "python",
   "name": "python3"
  },
  "language_info": {
   "codemirror_mode": {
    "name": "ipython",
    "version": 3
   },
   "file_extension": ".py",
   "mimetype": "text/x-python",
   "name": "python",
   "nbconvert_exporter": "python",
   "pygments_lexer": "ipython3",
   "version": "3.8.3"
  }
 },
 "nbformat": 4,
 "nbformat_minor": 4
}
