{
 "cells": [
  {
   "cell_type": "code",
   "execution_count": 1,
   "metadata": {},
   "outputs": [],
   "source": [
    "#1 red, green, blue, and alpha\n",
    "\n",
    "#2 Pillow offers the ImageColor.getcolor() function to get RGBA values\n",
    "\n",
    "#3 Many of Pillow’s functions and methods take a box tuple argument. \n",
    "# This means Pillow is expecting a tuple of four integer coordinates that represent a rectangular region in an image.\n",
    "\n",
    "#4 To load the image, import the Image module from Pillow and call Image.open(), passing it the image’s filename. \n",
    "# You can then store the loaded image in a variable like CatIm. \n",
    "\n",
    "#5 catIm.crop method\n",
    "\n",
    "#6 catIm.save method\n",
    "\n",
    "#7 ImageDraw\n",
    "\n",
    "#8 After making an Image object and passing it to ImageDraw.Draw() to get an ImageDraw object, \n",
    "# and storing the ImageDraw object in draw, we can call drawing methods on draw."
   ]
  }
 ],
 "metadata": {
  "kernelspec": {
   "display_name": "Python 3",
   "language": "python",
   "name": "python3"
  },
  "language_info": {
   "codemirror_mode": {
    "name": "ipython",
    "version": 3
   },
   "file_extension": ".py",
   "mimetype": "text/x-python",
   "name": "python",
   "nbconvert_exporter": "python",
   "pygments_lexer": "ipython3",
   "version": "3.8.3"
  }
 },
 "nbformat": 4,
 "nbformat_minor": 4
}
