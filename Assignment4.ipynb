{
 "cells": [
  {
   "cell_type": "markdown",
   "metadata": {},
   "source": [
    "Python Basics Assignment 4\n",
    "\n",
    "1. [] is a list\n",
    "\n",
    "2. spam.insert(3,'hello')\n",
    "\n",
    "3. 'd'\n",
    "\n",
    "4. 'd'\n",
    "\n",
    "5. ['a', 'b']\n",
    "\n",
    "6. 1\n",
    "\n",
    "7. It will append 99 at the end of the list.\n",
    "\n",
    "8. It will remove 'cat' from the list and move all the elements after 'cat' towards left by one shift.\n",
    "\n",
    "9. + is concatenation and * is replication\n",
    "\n",
    "10. append adds element in the end. insert adds element at a position one before the index value mentioned in the first parameter of the insert function.\n",
    "\n",
    "11. remove and pop\n",
    "\n",
    "12. Both are iterable and elements can be fetched using index values.\n",
    "\n",
    "13. Tuples are immutable and lists are mutable\n",
    "\n",
    "14. t = (42)\n",
    "\n",
    "15. Using tuple(list variable) and list(tuple variable) functions.\n",
    "\n",
    "16. They contain list elements. (I am not sure if I understood the question correctly)\n",
    "\n",
    "17. copy() is shallow copy and deepcopy() is deep copy. The former means both the lists are not pointing to one location. In the later both the lists are pointing to one location. In deep copy if one of the lists is updated, it will reflect on the other list as well unlike shallow copy."
   ]
  }
 ],
 "metadata": {
  "kernelspec": {
   "display_name": "Python 3",
   "language": "python",
   "name": "python3"
  },
  "language_info": {
   "codemirror_mode": {
    "name": "ipython",
    "version": 3
   },
   "file_extension": ".py",
   "mimetype": "text/x-python",
   "name": "python",
   "nbconvert_exporter": "python",
   "pygments_lexer": "ipython3",
   "version": "3.8.3"
  }
 },
 "nbformat": 4,
 "nbformat_minor": 4
}
