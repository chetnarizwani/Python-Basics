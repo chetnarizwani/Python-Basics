{
 "cells": [
  {
   "cell_type": "code",
   "execution_count": 1,
   "metadata": {},
   "outputs": [
    {
     "data": {
      "text/plain": [
       "(True, False)"
      ]
     },
     "execution_count": 1,
     "metadata": {},
     "output_type": "execute_result"
    }
   ],
   "source": [
    "# 1\n",
    "\n",
    "True, False"
   ]
  },
  {
   "cell_type": "code",
   "execution_count": 6,
   "metadata": {},
   "outputs": [
    {
     "name": "stdout",
     "output_type": "stream",
     "text": [
      "True\n",
      "True\n",
      "False\n"
     ]
    }
   ],
   "source": [
    "# 2\n",
    "\n",
    "# and, or and not\n",
    "print(True and True)\n",
    "print(True or False)\n",
    "print(not True)"
   ]
  },
  {
   "cell_type": "code",
   "execution_count": 8,
   "metadata": {},
   "outputs": [],
   "source": [
    "# 3\n",
    "\n",
    "# A       B       and       or       not A\n",
    "# False   False   False     False    True\n",
    "# False   True    False     True     True\n",
    "# True    False   False     True     False\n",
    "# True    True    True      True     False\n",
    "\n",
    "# and operator evaluates to True if both the operands evaluate to True, otherwise it evaluates to False\n",
    "# or operator evaluates to True even if one operand evaluates to True, otherwise False\n",
    "# not operator is a negation of the boolean evaluation of that operand. If True then False and vice versa\n",
    "\n"
   ]
  },
  {
   "cell_type": "code",
   "execution_count": 12,
   "metadata": {},
   "outputs": [],
   "source": [
    "# 4\n",
    "\n",
    "(5 > 4) and (3 == 5)  # False\n",
    "not (5 > 4) # False\n",
    "(5 > 4) or (3 == 5) # True\n",
    "not ((5 > 4) or (3 == 5)) # False\n",
    "(True and True) and (True == False) # False\n",
    "(not False) or (not True) # True"
   ]
  },
  {
   "cell_type": "code",
   "execution_count": 13,
   "metadata": {},
   "outputs": [],
   "source": [
    "# 5\n",
    "\n",
    "# >\n",
    "# <\n",
    "# <=\n",
    "# >=\n",
    "# ==\n",
    "# <>"
   ]
  },
  {
   "cell_type": "code",
   "execution_count": 16,
   "metadata": {},
   "outputs": [
    {
     "name": "stdout",
     "output_type": "stream",
     "text": [
      "True\n"
     ]
    },
    {
     "data": {
      "text/plain": [
       "5"
      ]
     },
     "execution_count": 16,
     "metadata": {},
     "output_type": "execute_result"
    }
   ],
   "source": [
    "# 6\n",
    "\n",
    "# = operator is for assignment and == operator is for comparison\n",
    "\n",
    "a = 5 # assignment - here I am assigning the integer value 5 to the variable a\n",
    "print(a == 5) # comparison - here I am comparing whether a is equal to 5 or not which would result in a boolean expression\n",
    "a\n"
   ]
  },
  {
   "cell_type": "code",
   "execution_count": 18,
   "metadata": {},
   "outputs": [],
   "source": [
    "# 7\n",
    "\n",
    "# The code will produce an error as python expects an indented block. \n",
    "# Once resolved, there are two blocks, one is 'if' and the other is 'if else'"
   ]
  },
  {
   "cell_type": "code",
   "execution_count": 21,
   "metadata": {},
   "outputs": [
    {
     "name": "stdout",
     "output_type": "stream",
     "text": [
      "3\n",
      "Greetings!\n"
     ]
    }
   ],
   "source": [
    "# 8\n",
    "\n",
    "spam = input()\n",
    "\n",
    "if spam == \"1\":\n",
    "    print('Hello')\n",
    "elif spam == \"2\":\n",
    "    print('Howdy')\n",
    "else:\n",
    "    print('Greetings!')"
   ]
  },
  {
   "cell_type": "code",
   "execution_count": 22,
   "metadata": {},
   "outputs": [],
   "source": [
    "# 9\n",
    "\n",
    "# Ctrl + C"
   ]
  },
  {
   "cell_type": "code",
   "execution_count": 23,
   "metadata": {},
   "outputs": [],
   "source": [
    "# 10\n",
    "\n",
    "# break is for the termination of the loop whereas continue will skip the current iteration and proceed with the next iteration"
   ]
  },
  {
   "cell_type": "code",
   "execution_count": 24,
   "metadata": {},
   "outputs": [],
   "source": [
    "# 11\n",
    "\n",
    "# range(10) considers end value 10 - 1 and starts from 0 by default\n",
    "# range(0,10) considers 0 as the start value and 10 - 1 as the end value\n",
    "# range(0,10,1) considers 0 as the start value, 10 - 1 as the end value and step value as 1. \n",
    "# Step value in the first two range functions is 1 by default"
   ]
  },
  {
   "cell_type": "code",
   "execution_count": 28,
   "metadata": {},
   "outputs": [
    {
     "name": "stdout",
     "output_type": "stream",
     "text": [
      "1\n",
      "2\n",
      "3\n",
      "4\n",
      "5\n",
      "6\n",
      "7\n",
      "8\n",
      "9\n",
      "10\n",
      "1\n",
      "2\n",
      "3\n",
      "4\n",
      "5\n",
      "6\n",
      "7\n",
      "8\n",
      "9\n",
      "10\n"
     ]
    }
   ],
   "source": [
    "#12\n",
    "\n",
    "for i in range(1,11):\n",
    "    print(i)\n",
    " \n",
    "j = 1\n",
    "while j <= 10:\n",
    "    print(j)\n",
    "    j = j + 1"
   ]
  },
  {
   "cell_type": "code",
   "execution_count": null,
   "metadata": {},
   "outputs": [],
   "source": [
    "#13 \n",
    "\n",
    "#import spam\n",
    "#spam.bacon()"
   ]
  }
 ],
 "metadata": {
  "kernelspec": {
   "display_name": "Python 3",
   "language": "python",
   "name": "python3"
  },
  "language_info": {
   "codemirror_mode": {
    "name": "ipython",
    "version": 3
   },
   "file_extension": ".py",
   "mimetype": "text/x-python",
   "name": "python",
   "nbconvert_exporter": "python",
   "pygments_lexer": "ipython3",
   "version": "3.8.3"
  }
 },
 "nbformat": 4,
 "nbformat_minor": 4
}
