{
 "cells": [
  {
   "cell_type": "markdown",
   "metadata": {},
   "source": [
    "1. Escape characters are used to display special characters. For example print('My name is \\'Chetna\\'').\n",
    "\n",
    "2. \\n stands for new line and \\t stands for tabspace\n",
    "\n",
    "3. print('\\\\')\n",
    "\n",
    "4. It is because the quotes enclosing the entire string is a double quote, which is different from a single quote inside.\n",
    "\n",
    "5. Using different print statements.\n",
    "\n",
    "6. \n",
    "e\n",
    "Hello\n",
    "Hello\n",
    "lo, world!\n",
    "\n",
    "7.\n",
    "HELLO\n",
    "True\n",
    "hello\n",
    "\n",
    "8.\n",
    "'Remember,', 'remember,', 'the', 'fifth', 'of', 'July.'\n",
    "'There-can-only-one.'\n",
    "\n",
    "9. Using ljust(), rjust() and center() functions.\n",
    "\n",
    "10. Using strip() function."
   ]
  }
 ],
 "metadata": {
  "kernelspec": {
   "display_name": "Python 3",
   "language": "python",
   "name": "python3"
  },
  "language_info": {
   "codemirror_mode": {
    "name": "ipython",
    "version": 3
   },
   "file_extension": ".py",
   "mimetype": "text/x-python",
   "name": "python",
   "nbconvert_exporter": "python",
   "pygments_lexer": "ipython3",
   "version": "3.8.3"
  }
 },
 "nbformat": 4,
 "nbformat_minor": 4
}
