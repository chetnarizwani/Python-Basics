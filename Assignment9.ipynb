{
 "cells": [
  {
   "cell_type": "code",
   "execution_count": 1,
   "metadata": {},
   "outputs": [],
   "source": [
    "#1 After removing present working directory from the absolute path - it becomes relative path\n",
    "\n",
    "#2 It starts from the root till the file name. \n",
    "\n",
    "#3 os.getcwd() will get the current working directory path and os.chdir() will change the working \n",
    "#  directory to the path specified as a parameter\n",
    "\n",
    "#4 / is root directory, ./ is cwd and ../ is parent directory\n",
    "\n",
    "#5 dirname is C:\\bacon\\eggs and basename is spam.txt\n",
    "\n",
    "#6 \n",
    "# 'r'\tOpen a file for reading.\n",
    "# 'w'\tOpen a file for writing. Creates a new file if it does not exist or truncates the file if it exists.\n",
    "# 'x'\tOpen a file for exclusive creation. If the file already exists, the operation fails.\n",
    "# 'a'\tOpen for appending at the end of the file without truncating it. Creates a new file if it does not exist.\n",
    "# 't'\tOpen in text mode. (default)\n",
    "# 'b'\tOpen in binary mode.\n",
    "# '+'\tOpen a file for updating (reading and writing)\n",
    "\n",
    "#7 If a file with the same name already exists, its contents are discarded and the file is treated as a new empty file.\n",
    "\n",
    "#8 read() would read each character, i.e, iteration would happen for every character. The readline() function, on the other hand, only reads a single line of the file\n",
    "\n",
    "#9 dictionary like. Persistent storage for storing Python objects that can be pickled\n"
   ]
  },
  {
   "cell_type": "code",
   "execution_count": null,
   "metadata": {},
   "outputs": [],
   "source": []
  }
 ],
 "metadata": {
  "kernelspec": {
   "display_name": "Python 3",
   "language": "python",
   "name": "python3"
  },
  "language_info": {
   "codemirror_mode": {
    "name": "ipython",
    "version": 3
   },
   "file_extension": ".py",
   "mimetype": "text/x-python",
   "name": "python",
   "nbconvert_exporter": "python",
   "pygments_lexer": "ipython3",
   "version": "3.8.3"
  }
 },
 "nbformat": 4,
 "nbformat_minor": 4
}
