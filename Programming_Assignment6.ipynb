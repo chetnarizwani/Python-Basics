{
 "cells": [
  {
   "cell_type": "code",
   "execution_count": 1,
   "metadata": {},
   "outputs": [
    {
     "name": "stdout",
     "output_type": "stream",
     "text": [
      "5\n",
      "0\n",
      "1\n",
      "1\n",
      "2\n",
      "3\n"
     ]
    }
   ],
   "source": [
    "#1 Fibonacci\n",
    "\n",
    "def fib_recur(n):\n",
    "    if n <= 1:\n",
    "        return n\n",
    "    else:\n",
    "        return(fib_recur(n-1) + fib_recur(n-2))\n",
    "\n",
    "n = int(input())\n",
    "\n",
    "# check if the number of terms is valid\n",
    "if n <= 0:\n",
    "    print(\"Plese enter a positive integer\")\n",
    "else:\n",
    "    for i in range(n):\n",
    "        print(fib_recur(i))"
   ]
  },
  {
   "cell_type": "code",
   "execution_count": 3,
   "metadata": {},
   "outputs": [
    {
     "name": "stdout",
     "output_type": "stream",
     "text": [
      "5\n",
      "120\n"
     ]
    }
   ],
   "source": [
    "#2 Factorial\n",
    "\n",
    "def fac_recur(n):\n",
    "    if n == 1:\n",
    "        return n\n",
    "    else:\n",
    "        return n*fac_recur(n-1)\n",
    "\n",
    "num = int(input())\n",
    "\n",
    "if num < 0:\n",
    "    print(\"Enter a number >= 0\")\n",
    "elif num == 0:\n",
    "    print(\"The factorial of 0 is 1\")\n",
    "else:\n",
    "    print(fac_recur(num))"
   ]
  },
  {
   "cell_type": "code",
   "execution_count": 5,
   "metadata": {},
   "outputs": [
    {
     "name": "stdout",
     "output_type": "stream",
     "text": [
      "1.5\n",
      "50\n",
      "22.22222222222222\n"
     ]
    }
   ],
   "source": [
    "#3 BMI\n",
    "\n",
    "def BMI(height, weight):\n",
    "    bmi = weight/(height**2)\n",
    "    return bmi\n",
    " \n",
    "height = float(input()) #in metres\n",
    "weight = float(input()) #in kg\n",
    " \n",
    "bmi = BMI(height, weight)\n",
    "print(bmi)"
   ]
  },
  {
   "cell_type": "code",
   "execution_count": 6,
   "metadata": {},
   "outputs": [
    {
     "name": "stdout",
     "output_type": "stream",
     "text": [
      "5\n",
      "1.6094379124341003\n"
     ]
    }
   ],
   "source": [
    "#4 log\n",
    "\n",
    "import math\n",
    "n = float(input())\n",
    "print(math.log(n))"
   ]
  },
  {
   "cell_type": "code",
   "execution_count": 9,
   "metadata": {},
   "outputs": [
    {
     "name": "stdout",
     "output_type": "stream",
     "text": [
      "3025.0\n"
     ]
    }
   ],
   "source": [
    "#5 cube sum of first 10 natural numbers\n",
    "\n",
    "n = 10\n",
    "sum = 0\n",
    "for i in range(1,11):\n",
    "    sum += math.pow(i,3)\n",
    "print(sum)"
   ]
  },
  {
   "cell_type": "code",
   "execution_count": null,
   "metadata": {},
   "outputs": [],
   "source": []
  }
 ],
 "metadata": {
  "kernelspec": {
   "display_name": "Python 3",
   "language": "python",
   "name": "python3"
  },
  "language_info": {
   "codemirror_mode": {
    "name": "ipython",
    "version": 3
   },
   "file_extension": ".py",
   "mimetype": "text/x-python",
   "name": "python",
   "nbconvert_exporter": "python",
   "pygments_lexer": "ipython3",
   "version": "3.8.3"
  }
 },
 "nbformat": 4,
 "nbformat_minor": 4
}
