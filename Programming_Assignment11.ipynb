{
 "cells": [
  {
   "cell_type": "code",
   "execution_count": 1,
   "metadata": {},
   "outputs": [
    {
     "name": "stdout",
     "output_type": "stream",
     "text": [
      "Hello\n",
      "learning\n",
      "Python\n"
     ]
    }
   ],
   "source": [
    "#1\n",
    "\n",
    "lst = ['Hello', 'I', 'am', 'learning', 'Python']\n",
    "k = 4\n",
    "\n",
    "for i in lst:\n",
    "    if len(i) > 4:\n",
    "        print(i)"
   ]
  },
  {
   "cell_type": "code",
   "execution_count": 4,
   "metadata": {},
   "outputs": [
    {
     "data": {
      "text/plain": [
       "'Pyhon'"
      ]
     },
     "execution_count": 4,
     "metadata": {},
     "output_type": "execute_result"
    }
   ],
   "source": [
    "#2\n",
    "\n",
    "string = \"Python\"\n",
    "i = 2\n",
    "part1 = string[0:i]\n",
    "part2 = string[i+1:]\n",
    "string = part1 + part2\n",
    "string"
   ]
  },
  {
   "cell_type": "code",
   "execution_count": 6,
   "metadata": {},
   "outputs": [
    {
     "data": {
      "text/plain": [
       "'Python'"
      ]
     },
     "execution_count": 6,
     "metadata": {},
     "output_type": "execute_result"
    }
   ],
   "source": [
    "#3\n",
    "\n",
    "string = \"Python\"\n",
    "arr = string.split()\n",
    "string1 = \"\".join(arr)\n",
    "string1"
   ]
  },
  {
   "cell_type": "code",
   "execution_count": 9,
   "metadata": {},
   "outputs": [
    {
     "name": "stdout",
     "output_type": "stream",
     "text": [
      "Binary\n"
     ]
    }
   ],
   "source": [
    "#4\n",
    "\n",
    "string = \"10101010\"\n",
    "\n",
    "flag = 1\n",
    "for i in string:\n",
    "    if i not in '01':\n",
    "        flag = 0\n",
    "if flag == 1:\n",
    "    print(\"Binary\")\n",
    "else:\n",
    "    print(\"Not Binary\")"
   ]
  },
  {
   "cell_type": "code",
   "execution_count": 13,
   "metadata": {},
   "outputs": [
    {
     "name": "stdout",
     "output_type": "stream",
     "text": [
      "{'b', 'a'} {'f', 'e'}\n"
     ]
    }
   ],
   "source": [
    "#5\n",
    "\n",
    "string1 = \"abcd\"\n",
    "string2 = \"cdefeeee\"\n",
    "uncommon1 = \"\"\n",
    "uncommon2 = \"\"\n",
    "for i in string1:\n",
    "    if i not in string2:\n",
    "        uncommon1 += i\n",
    "for j in string2:\n",
    "    if j not in string1:\n",
    "        uncommon2 += j\n",
    "print(set(uncommon1), set(uncommon2))"
   ]
  },
  {
   "cell_type": "code",
   "execution_count": 15,
   "metadata": {},
   "outputs": [
    {
     "name": "stdout",
     "output_type": "stream",
     "text": [
      "{'b', 'a'}\n"
     ]
    }
   ],
   "source": [
    "#6\n",
    "\n",
    "string = \"aabbcde\"\n",
    "dup = \"\"\n",
    "for i in string:\n",
    "    if string.count(i) >= 2:\n",
    "        dup += i\n",
    "print(set(dup))"
   ]
  },
  {
   "cell_type": "code",
   "execution_count": 16,
   "metadata": {},
   "outputs": [
    {
     "name": "stdout",
     "output_type": "stream",
     "text": [
      "{'$', '#', '@', '!'}\n"
     ]
    }
   ],
   "source": [
    "#7\n",
    "\n",
    "string = \"1234abcdABCD!@#$\"\n",
    "spc_char = \"\"\n",
    "for i in string:\n",
    "    if not(i.isdigit() or i.isalpha()):\n",
    "        spc_char += i\n",
    "print(set(spc_char))"
   ]
  },
  {
   "cell_type": "code",
   "execution_count": null,
   "metadata": {},
   "outputs": [],
   "source": []
  }
 ],
 "metadata": {
  "kernelspec": {
   "display_name": "Python 3",
   "language": "python",
   "name": "python3"
  },
  "language_info": {
   "codemirror_mode": {
    "name": "ipython",
    "version": 3
   },
   "file_extension": ".py",
   "mimetype": "text/x-python",
   "name": "python",
   "nbconvert_exporter": "python",
   "pygments_lexer": "ipython3",
   "version": "3.8.3"
  }
 },
 "nbformat": 4,
 "nbformat_minor": 4
}
