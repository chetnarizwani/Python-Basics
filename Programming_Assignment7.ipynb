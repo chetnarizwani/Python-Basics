{
 "cells": [
  {
   "cell_type": "code",
   "execution_count": 1,
   "metadata": {},
   "outputs": [
    {
     "name": "stdout",
     "output_type": "stream",
     "text": [
      "15\n"
     ]
    }
   ],
   "source": [
    "#1\n",
    "\n",
    "arr = [1,2,3,4,5]\n",
    "sum = 0\n",
    "for i in arr:\n",
    "    sum += i\n",
    "print(sum)   "
   ]
  },
  {
   "cell_type": "code",
   "execution_count": 2,
   "metadata": {},
   "outputs": [
    {
     "name": "stdout",
     "output_type": "stream",
     "text": [
      "5\n"
     ]
    }
   ],
   "source": [
    "#2\n",
    "\n",
    "arr = [1,2,3,4,5]\n",
    "print(max(arr))"
   ]
  },
  {
   "cell_type": "code",
   "execution_count": 12,
   "metadata": {},
   "outputs": [
    {
     "data": {
      "text/plain": [
       "[9, 10, 1, 2, 3, 4, 5, 6, 7, 8]"
      ]
     },
     "execution_count": 12,
     "metadata": {},
     "output_type": "execute_result"
    }
   ],
   "source": [
    "#3\n",
    "\n",
    "def rotate(arr, d):\n",
    "    arr2 = []\n",
    "    for i in range(-d,len(arr)-d):\n",
    "        arr2.append(arr[i])\n",
    "    return arr2\n",
    "\n",
    "rotate([1,2,3,4,5,6,7,8,9,10],2)"
   ]
  },
  {
   "cell_type": "code",
   "execution_count": 15,
   "metadata": {},
   "outputs": [
    {
     "data": {
      "text/plain": [
       "[4, 5, 6, 1, 2, 3]"
      ]
     },
     "execution_count": 15,
     "metadata": {},
     "output_type": "execute_result"
    }
   ],
   "source": [
    "#4\n",
    "\n",
    "arr = [1,2,3,4,5,6]\n",
    "arr1 = arr[0:len(arr)//2]\n",
    "arr2 = arr[len(arr)//2:]\n",
    "arr = arr2 + arr1\n",
    "arr"
   ]
  },
  {
   "cell_type": "code",
   "execution_count": 19,
   "metadata": {},
   "outputs": [
    {
     "name": "stdout",
     "output_type": "stream",
     "text": [
      "Not Monotonic\n"
     ]
    }
   ],
   "source": [
    "#5\n",
    "\n",
    "arr = [1,2,3,4,5,1,2]\n",
    "f = 0\n",
    "for i in range(len(arr)-1):\n",
    "    if arr[i+1] < arr[i]:\n",
    "        f = 1\n",
    "        break\n",
    "\n",
    "if f == 0:\n",
    "    print(\"Monotonic\")\n",
    "else:\n",
    "    print(\"Not Monotonic\")\n",
    "        \n",
    "        "
   ]
  },
  {
   "cell_type": "code",
   "execution_count": null,
   "metadata": {},
   "outputs": [],
   "source": []
  }
 ],
 "metadata": {
  "kernelspec": {
   "display_name": "Python 3",
   "language": "python",
   "name": "python3"
  },
  "language_info": {
   "codemirror_mode": {
    "name": "ipython",
    "version": 3
   },
   "file_extension": ".py",
   "mimetype": "text/x-python",
   "name": "python",
   "nbconvert_exporter": "python",
   "pygments_lexer": "ipython3",
   "version": "3.8.3"
  }
 },
 "nbformat": 4,
 "nbformat_minor": 4
}
