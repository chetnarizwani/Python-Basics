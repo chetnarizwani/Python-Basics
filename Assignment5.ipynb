{
 "cells": [
  {
   "cell_type": "markdown",
   "metadata": {},
   "source": [
    "Python Basics Assignment 5\n",
    "\n",
    "1. d = {}\n",
    "\n",
    "2. d = {'foo':42}\n",
    "\n",
    "3. Elements in a dictionary are accessed via keys and not indexes.\n",
    "\n",
    "4. It will produce an error\n",
    "\n",
    "5. Both the 'cat' are referring to keys.\n",
    "\n",
    "6. First 'cat' refers to the key and the second 'cat' refers to the value.\n",
    "\n",
    "7. Just write spam['color'] = black. It will add that key value pair in the dictionary.\n",
    "\n",
    "8. \n",
    "import pprint \n",
    "p = pprint.PrettyPrinter(indent=4)\n",
    "p.pprint(d)\n"
   ]
  }
 ],
 "metadata": {
  "kernelspec": {
   "display_name": "Python 3",
   "language": "python",
   "name": "python3"
  },
  "language_info": {
   "codemirror_mode": {
    "name": "ipython",
    "version": 3
   },
   "file_extension": ".py",
   "mimetype": "text/x-python",
   "name": "python",
   "nbconvert_exporter": "python",
   "pygments_lexer": "ipython3",
   "version": "3.8.3"
  }
 },
 "nbformat": 4,
 "nbformat_minor": 4
}
