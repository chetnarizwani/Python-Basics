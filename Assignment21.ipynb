{
 "cells": [
  {
   "cell_type": "code",
   "execution_count": 1,
   "metadata": {},
   "outputs": [],
   "source": [
    "#1\n",
    "\n",
    "from datetime import date\n",
    "\n",
    "now = date.today()\n",
    "now_str = now.isoformat()\n",
    "with open('today','wt') as output:\n",
    "    print(now_str,file=output)\n",
    "#     output.write(now_str)"
   ]
  },
  {
   "cell_type": "code",
   "execution_count": 2,
   "metadata": {},
   "outputs": [
    {
     "data": {
      "text/plain": [
       "'2021-07-23\\n'"
      ]
     },
     "execution_count": 2,
     "metadata": {},
     "output_type": "execute_result"
    }
   ],
   "source": [
    "#2\n",
    "\n",
    "with open('today','rt') as input:\n",
    "    today_string = input.read()\n",
    "    \n",
    "today_string"
   ]
  },
  {
   "cell_type": "code",
   "execution_count": 3,
   "metadata": {},
   "outputs": [
    {
     "data": {
      "text/plain": [
       "datetime.datetime(2021, 7, 23, 0, 0)"
      ]
     },
     "execution_count": 3,
     "metadata": {},
     "output_type": "execute_result"
    }
   ],
   "source": [
    "#3\n",
    "\n",
    "from datetime import datetime\n",
    "\n",
    "fmt = '%Y-%m-%d\\n'\n",
    "datetime.strptime(today_string,fmt)"
   ]
  },
  {
   "cell_type": "code",
   "execution_count": 4,
   "metadata": {},
   "outputs": [
    {
     "data": {
      "text/plain": [
       "['.ipynb_checkpoints',\n",
       " 'Assignment1.docx',\n",
       " 'Assignment10.ipynb',\n",
       " 'Assignment11.ipynb',\n",
       " 'Assignment12.ipynb',\n",
       " 'Assignment13.ipynb',\n",
       " 'Assignment14.ipynb',\n",
       " 'Assignment15.ipynb',\n",
       " 'Assignment16.ipynb',\n",
       " 'Assignment17.ipynb',\n",
       " 'Assignment18.ipynb',\n",
       " 'Assignment19.ipynb',\n",
       " 'Assignment2.ipynb',\n",
       " 'Assignment20.ipynb',\n",
       " 'Assignment21.ipynb',\n",
       " 'Assignment3.ipynb',\n",
       " 'Assignment4.ipynb',\n",
       " 'Assignment5.ipynb',\n",
       " 'Assignment6.ipynb',\n",
       " 'Assignment7.ipynb',\n",
       " 'Assignment8.ipynb',\n",
       " 'Assignment9.ipynb',\n",
       " 'books.csv',\n",
       " 'books.db',\n",
       " 'multi_times.py',\n",
       " 'Questions',\n",
       " 'test.txt',\n",
       " 'today',\n",
       " 'zoo.py',\n",
       " '__pycache__']"
      ]
     },
     "execution_count": 4,
     "metadata": {},
     "output_type": "execute_result"
    }
   ],
   "source": [
    "#4\n",
    "\n",
    "import os\n",
    "os.listdir('.')"
   ]
  },
  {
   "cell_type": "code",
   "execution_count": 5,
   "metadata": {},
   "outputs": [
    {
     "data": {
      "text/plain": [
       "['.ipynb_checkpoints', 'Programming Basics', 'Theory Basics']"
      ]
     },
     "execution_count": 5,
     "metadata": {},
     "output_type": "execute_result"
    }
   ],
   "source": [
    "#5\n",
    "\n",
    "import os\n",
    "os.listdir('..')"
   ]
  },
  {
   "cell_type": "code",
   "execution_count": 7,
   "metadata": {},
   "outputs": [
    {
     "name": "stdout",
     "output_type": "stream",
     "text": [
      "wait 0.39191423702697314 seconds, time is 2021-07-23 18:13:36.952631\n",
      "wait 0.4931112539819792 seconds, time is 2021-07-23 18:13:37.045923\n",
      "wait 0.6535274249454176 seconds, time is 2021-07-23 18:13:37.214510\n",
      "wait 0.7449640275390953 seconds, time is 2021-07-23 18:13:37.291645\n",
      "wait 0.8304235635581466 seconds, time is 2021-07-23 18:13:37.384883\n"
     ]
    }
   ],
   "source": [
    "#6\n",
    "\n",
    "# multi_times.py\n",
    "\n",
    "# import multiprocessing\n",
    "\n",
    "# def now(seconds):\n",
    "#     from datetime import datetime\n",
    "#     from time import sleep\n",
    "#     sleep(seconds)\n",
    "#     print('wait',seconds,'seconds, time is',datetime.utcnow())\n",
    "    \n",
    "# if __name__ == '__main__':\n",
    "#     for n in range(5):\n",
    "#         import random  \n",
    "#         seconds = random.random()\n",
    "#         proc = multiprocessing.Process(target=now,args=(seconds,))\n",
    "#         proc.start()\n",
    "        \n",
    "\n",
    "\n",
    "!python multi_times.py"
   ]
  },
  {
   "cell_type": "code",
   "execution_count": 8,
   "metadata": {},
   "outputs": [
    {
     "data": {
      "text/plain": [
       "datetime.date(2000, 1, 1)"
      ]
     },
     "execution_count": 8,
     "metadata": {},
     "output_type": "execute_result"
    }
   ],
   "source": [
    "#7\n",
    "\n",
    "my_day = date(2000,1,1)\n",
    "my_day"
   ]
  },
  {
   "cell_type": "code",
   "execution_count": 9,
   "metadata": {},
   "outputs": [
    {
     "data": {
      "text/plain": [
       "6"
      ]
     },
     "execution_count": 9,
     "metadata": {},
     "output_type": "execute_result"
    }
   ],
   "source": [
    "#8\n",
    "\n",
    "my_day.weekday()\n",
    "my_day.isoweekday()"
   ]
  },
  {
   "cell_type": "code",
   "execution_count": 11,
   "metadata": {},
   "outputs": [
    {
     "data": {
      "text/plain": [
       "datetime.date(2027, 5, 19)"
      ]
     },
     "execution_count": 11,
     "metadata": {},
     "output_type": "execute_result"
    }
   ],
   "source": [
    "#9\n",
    "\n",
    "from datetime import timedelta\n",
    "party_day = my_day + timedelta(days = 10000)\n",
    "party_day"
   ]
  },
  {
   "cell_type": "code",
   "execution_count": null,
   "metadata": {},
   "outputs": [],
   "source": []
  }
 ],
 "metadata": {
  "kernelspec": {
   "display_name": "Python 3",
   "language": "python",
   "name": "python3"
  },
  "language_info": {
   "codemirror_mode": {
    "name": "ipython",
    "version": 3
   },
   "file_extension": ".py",
   "mimetype": "text/x-python",
   "name": "python",
   "nbconvert_exporter": "python",
   "pygments_lexer": "ipython3",
   "version": "3.8.3"
  }
 },
 "nbformat": 4,
 "nbformat_minor": 4
}
