{
 "cells": [
  {
   "cell_type": "code",
   "execution_count": 6,
   "metadata": {},
   "outputs": [
    {
     "name": "stdout",
     "output_type": "stream",
     "text": [
      "100,150,180\n"
     ]
    },
    {
     "data": {
      "text/plain": [
       "[18, 22, 24]"
      ]
     },
     "execution_count": 6,
     "metadata": {},
     "output_type": "execute_result"
    }
   ],
   "source": [
    "#1\n",
    "\n",
    "import ast\n",
    "import math\n",
    "C = 50\n",
    "H = 30\n",
    "D = ast.literal_eval(input())\n",
    "Q = []\n",
    "\n",
    "for i in D:\n",
    "    Q.append(int(math.sqrt((2*C*i)/H)))\n",
    "Q"
   ]
  },
  {
   "cell_type": "code",
   "execution_count": 23,
   "metadata": {},
   "outputs": [
    {
     "data": {
      "text/plain": [
       "[[0, 0, 0], [0, 1, 2], [0, 2, 4], [0, 3, 6], [0, 4, 8]]"
      ]
     },
     "execution_count": 23,
     "metadata": {},
     "output_type": "execute_result"
    }
   ],
   "source": [
    "#2\n",
    "\n",
    "m = 5\n",
    "n = 3\n",
    "arr = [[0 for n in range(n)] for m in range(m)]\n",
    "for i in range(0,m):\n",
    "    for j in range(0,n):\n",
    "        arr[i][j] = i * j\n",
    "arr"
   ]
  },
  {
   "cell_type": "code",
   "execution_count": 32,
   "metadata": {},
   "outputs": [
    {
     "name": "stdout",
     "output_type": "stream",
     "text": [
      "'Hello', 'my', 'name', 'is', 'Chetna'\n"
     ]
    },
    {
     "data": {
      "text/plain": [
       "['Chetna', 'Hello', 'is', 'my', 'name']"
      ]
     },
     "execution_count": 32,
     "metadata": {},
     "output_type": "execute_result"
    }
   ],
   "source": [
    "#3\n",
    "\n",
    "arr = ast.literal_eval(input())\n",
    "sorted(arr)"
   ]
  },
  {
   "cell_type": "code",
   "execution_count": 33,
   "metadata": {},
   "outputs": [
    {
     "name": "stdout",
     "output_type": "stream",
     "text": [
      "'Hello', 'my', 'name', 'is', 'Chetna', 'Hello'\n"
     ]
    },
    {
     "data": {
      "text/plain": [
       "['Chetna', 'Hello', 'is', 'my', 'name']"
      ]
     },
     "execution_count": 33,
     "metadata": {},
     "output_type": "execute_result"
    }
   ],
   "source": [
    "#4\n",
    "\n",
    "arr = set(ast.literal_eval(input()))\n",
    "sorted(arr)"
   ]
  },
  {
   "cell_type": "code",
   "execution_count": 37,
   "metadata": {},
   "outputs": [
    {
     "name": "stdout",
     "output_type": "stream",
     "text": [
      "Hello123\n",
      "Letters - 5\n",
      "Digits - 3\n"
     ]
    }
   ],
   "source": [
    "#5\n",
    "\n",
    "letters = 0\n",
    "digits = 0\n",
    "arr = input()\n",
    "for i in arr:\n",
    "    if i.isdigit():\n",
    "        digits += 1\n",
    "    elif i.isalpha():\n",
    "        letters += 1\n",
    "print('Letters -' , letters)\n",
    "print('Digits -' , digits)"
   ]
  },
  {
   "cell_type": "code",
   "execution_count": 48,
   "metadata": {},
   "outputs": [
    {
     "name": "stdout",
     "output_type": "stream",
     "text": [
      "'ABd1234@1','a F1#','2w3E*','2We3345'\n",
      "ABd1234@1\n"
     ]
    }
   ],
   "source": [
    "#6\n",
    "\n",
    "arr = list(ast.literal_eval(input()))\n",
    "\n",
    "for passwd in arr:\n",
    "    l_alpha = 0\n",
    "    u_alpha = 0\n",
    "    dig = 0\n",
    "    sp_char = 0\n",
    "    if len(passwd) >= 6 and len(passwd) <= 12:\n",
    "        for i in passwd:\n",
    "            if (ord(i) >= 65 and ord(i) <= 90):\n",
    "                l_alpha = 1\n",
    "            if (ord(i) >= 97 and ord(i) <= 122):\n",
    "                u_alpha = 1\n",
    "            if (ord(i) >= 48 and ord(i) <= 57):\n",
    "                dig = 1\n",
    "            if i in ['$', '#', '@']:\n",
    "                sp_char = 1\n",
    "        if l_alpha == 1 and u_alpha == 1 and dig == 1 and sp_char == 1:\n",
    "            print(passwd)"
   ]
  },
  {
   "cell_type": "code",
   "execution_count": null,
   "metadata": {},
   "outputs": [],
   "source": []
  }
 ],
 "metadata": {
  "kernelspec": {
   "display_name": "Python 3",
   "language": "python",
   "name": "python3"
  },
  "language_info": {
   "codemirror_mode": {
    "name": "ipython",
    "version": 3
   },
   "file_extension": ".py",
   "mimetype": "text/x-python",
   "name": "python",
   "nbconvert_exporter": "python",
   "pygments_lexer": "ipython3",
   "version": "3.8.3"
  }
 },
 "nbformat": 4,
 "nbformat_minor": 4
}
