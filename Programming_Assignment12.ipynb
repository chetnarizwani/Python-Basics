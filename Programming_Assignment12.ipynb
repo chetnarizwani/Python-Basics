{
 "cells": [
  {
   "cell_type": "code",
   "execution_count": 1,
   "metadata": {},
   "outputs": [
    {
     "name": "stdout",
     "output_type": "stream",
     "text": [
      "[1, 2, 3, 4, 5, 6, 7, 8, 9, 10, 11, 12]\n"
     ]
    }
   ],
   "source": [
    "#1\n",
    "\n",
    "d = {'A' : [1, 2, 3, 4],\n",
    "             'B' : [4, 5, 6, 7],\n",
    "             'C' : [6, 7, 8, 9],\n",
    "             'D' : [9, 10, 11, 12]}\n",
    "  \n",
    "unique = list(sorted({e for i in d.values() for e in i}))\n",
    "  \n",
    "print(unique) "
   ]
  },
  {
   "cell_type": "code",
   "execution_count": 2,
   "metadata": {},
   "outputs": [
    {
     "name": "stdout",
     "output_type": "stream",
     "text": [
      "10\n"
     ]
    }
   ],
   "source": [
    "#2\n",
    "\n",
    "d = {'A' : 1, 'B' : 2, 'C' : 3, 'D' : 4}\n",
    "sum = 0\n",
    "\n",
    "for i in d:\n",
    "    sum += d[i]\n",
    "\n",
    "print(sum) "
   ]
  },
  {
   "cell_type": "code",
   "execution_count": 7,
   "metadata": {},
   "outputs": [
    {
     "data": {
      "text/plain": [
       "{'A': 1, 'B': 2, 'C': 3, 'D': 4, 'E': 1, 'F': 2, 'G': 3, 'H': 4}"
      ]
     },
     "execution_count": 7,
     "metadata": {},
     "output_type": "execute_result"
    }
   ],
   "source": [
    "#3\n",
    "\n",
    "d1 = {'A' : 1, 'B' : 2, 'C' : 3, 'D' : 4}\n",
    "d2 = {'E' : 1, 'F' : 2, 'G' : 3, 'H' : 4}\n",
    "\n",
    "d1.update(d2)\n",
    "d1"
   ]
  },
  {
   "cell_type": "code",
   "execution_count": 8,
   "metadata": {},
   "outputs": [
    {
     "name": "stdout",
     "output_type": "stream",
     "text": [
      "{1: 'Jan', 2: 'Feb', 3: 'March', 4: 'Apr', 5: 'May', 6: 'June'}\n"
     ]
    }
   ],
   "source": [
    "#4\n",
    "\n",
    "d = {'month_no' : [1, 2, 3, 4, 5, 6], 'month_name' : ['Jan', 'Feb', 'March', 'Apr', 'May', 'June']}\n",
    "flat = dict(zip(d['month_no'], d['month_name']))\n",
    "\n",
    "print(flat)"
   ]
  },
  {
   "cell_type": "code",
   "execution_count": 11,
   "metadata": {},
   "outputs": [
    {
     "name": "stdout",
     "output_type": "stream",
     "text": [
      "OrderedDict([('Mango', '3'), ('Apple', '1'), ('Banana', '2')])\n"
     ]
    }
   ],
   "source": [
    "#5\n",
    "\n",
    "from collections import OrderedDict\n",
    "  \n",
    "ordered_dict = OrderedDict([('Apple', '1'), ('Banana', '2')])\n",
    "  \n",
    "ordered_dict.update({'Mango':'3'})\n",
    "ordered_dict.move_to_end('Mango', last = False)\n",
    "  \n",
    "# print result\n",
    "print (ordered_dict)"
   ]
  },
  {
   "cell_type": "code",
   "execution_count": 18,
   "metadata": {},
   "outputs": [
    {
     "name": "stdout",
     "output_type": "stream",
     "text": [
      "Correct\n"
     ]
    }
   ],
   "source": [
    "#6\n",
    "\n",
    "from collections import OrderedDict\n",
    "str_input = 'Message'\n",
    "str_pattern = 'sag'\n",
    "flag = 1\n",
    "d = OrderedDict.fromkeys(str_input)\n",
    "patt_len = 0\n",
    "for key,value in d.items():\n",
    "    if (key == str_pattern[patt_len]):\n",
    "        patt_len = patt_len + 1\n",
    "    if (patt_len == (len(str_pattern))):\n",
    "        flag = 0\n",
    "        break\n",
    "            \n",
    "if flag == 0:\n",
    "    print(\"Correct\")\n",
    "else:\n",
    "    print(\"Incorrect\")\n"
   ]
  },
  {
   "cell_type": "code",
   "execution_count": 21,
   "metadata": {},
   "outputs": [
    {
     "name": "stdout",
     "output_type": "stream",
     "text": [
      "1 3\n",
      "2 2\n",
      "3 1\n",
      "4 6\n",
      "5 5\n",
      "6 4\n"
     ]
    }
   ],
   "source": [
    "#7\n",
    "\n",
    "d = {}    \n",
    "\n",
    "d[3] = 1      \n",
    "d[2] = 2 \n",
    "d[1] = 3 \n",
    "d[6] = 4\n",
    "d[5] = 5      \n",
    "d[4] = 6 \n",
    "     \n",
    "for i in sorted (d):\n",
    "    print (i, d[i])"
   ]
  },
  {
   "cell_type": "code",
   "execution_count": null,
   "metadata": {},
   "outputs": [],
   "source": []
  }
 ],
 "metadata": {
  "kernelspec": {
   "display_name": "Python 3",
   "language": "python",
   "name": "python3"
  },
  "language_info": {
   "codemirror_mode": {
    "name": "ipython",
    "version": 3
   },
   "file_extension": ".py",
   "mimetype": "text/x-python",
   "name": "python",
   "nbconvert_exporter": "python",
   "pygments_lexer": "ipython3",
   "version": "3.8.3"
  }
 },
 "nbformat": 4,
 "nbformat_minor": 4
}
