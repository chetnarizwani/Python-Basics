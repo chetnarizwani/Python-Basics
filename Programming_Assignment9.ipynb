{
 "cells": [
  {
   "cell_type": "code",
   "execution_count": 3,
   "metadata": {},
   "outputs": [
    {
     "name": "stdout",
     "output_type": "stream",
     "text": [
      "Disarium number\n"
     ]
    }
   ],
   "source": [
    "#1\n",
    "    \n",
    "num = 175    \n",
    "sum = 0   \n",
    "\n",
    "count = 0\n",
    "n = num \n",
    "while(n != 0):    \n",
    "    count = count + 1\n",
    "    n = n//10\n",
    "\n",
    "n = num\n",
    "while(n > 0):    \n",
    "    rem = n%10\n",
    "    sum = sum + int(rem**count)    \n",
    "    n = n//10 \n",
    "    count = count - 1    \n",
    "       \n",
    "if(sum == num):    \n",
    "    print(\"Disarium number\");    \n",
    "else:    \n",
    "    print(\"Not a disarium number\");    "
   ]
  },
  {
   "cell_type": "code",
   "execution_count": 4,
   "metadata": {},
   "outputs": [
    {
     "name": "stdout",
     "output_type": "stream",
     "text": [
      "1\n",
      "2\n",
      "3\n",
      "4\n",
      "5\n",
      "6\n",
      "7\n",
      "8\n",
      "9\n",
      "89\n"
     ]
    }
   ],
   "source": [
    "#2\n",
    "\n",
    "for i in range(1,101):\n",
    "    num = i  \n",
    "    sum = 0   \n",
    "    count = 0\n",
    "    n = num \n",
    "    while(n != 0):    \n",
    "        count = count + 1\n",
    "        n = n//10\n",
    "    n = num\n",
    "    while(n > 0):    \n",
    "        rem = n%10\n",
    "        sum = sum + int(rem**count)    \n",
    "        n = n//10 \n",
    "        count = count - 1    \n",
    "    if(sum == num):    \n",
    "        print(i)   "
   ]
  },
  {
   "cell_type": "code",
   "execution_count": 2,
   "metadata": {},
   "outputs": [
    {
     "name": "stdout",
     "output_type": "stream",
     "text": [
      "82\n",
      "Happy number\n"
     ]
    }
   ],
   "source": [
    "#3\n",
    "    \n",
    "def isHappyNumber(num):    \n",
    "    sum = 0     \n",
    "    while(num > 0):    \n",
    "        rem = num%10    \n",
    "        sum = sum + (rem*rem)    \n",
    "        num = num//10    \n",
    "    return sum   \n",
    "        \n",
    "num = int(input())    \n",
    "n = num   \n",
    "     \n",
    "while(n != 1 and n != 4):    \n",
    "    n = isHappyNumber(n) \n",
    "     \n",
    "if(n == 1):    \n",
    "    print(\"Happy number\")      \n",
    "elif(n == 4):    \n",
    "    print(\"Not a happy number\")  "
   ]
  },
  {
   "cell_type": "code",
   "execution_count": 3,
   "metadata": {},
   "outputs": [
    {
     "name": "stdout",
     "output_type": "stream",
     "text": [
      "1\n",
      "7\n",
      "10\n",
      "13\n",
      "19\n",
      "23\n",
      "28\n",
      "31\n",
      "32\n",
      "44\n",
      "49\n",
      "68\n",
      "70\n",
      "79\n",
      "82\n",
      "86\n",
      "91\n",
      "94\n",
      "97\n",
      "100\n"
     ]
    }
   ],
   "source": [
    "#4\n",
    "\n",
    "def isHappyNumber(num):    \n",
    "    sum = 0     \n",
    "    while(num > 0):    \n",
    "        rem = num%10    \n",
    "        sum = sum + (rem*rem)    \n",
    "        num = num//10    \n",
    "    return sum    \n",
    "        \n",
    "for i in range(1,101):  \n",
    "    n = i     \n",
    "    while(n != 1 and n != 4):    \n",
    "        n = isHappyNumber(n)    \n",
    "    if n==1:\n",
    "        print(i)"
   ]
  },
  {
   "cell_type": "code",
   "execution_count": 4,
   "metadata": {},
   "outputs": [
    {
     "name": "stdout",
     "output_type": "stream",
     "text": [
      "156\n",
      "Harshad number\n"
     ]
    }
   ],
   "source": [
    "#5\n",
    "\n",
    "num = int(input()) \n",
    "sum = 0   \n",
    "      \n",
    "n = num;    \n",
    "         \n",
    "while(num > 0):    \n",
    "    rem = num%10;    \n",
    "    sum = sum + rem;    \n",
    "    num = num//10;    \n",
    "         \n",
    "if(n%sum == 0):    \n",
    "    print(\"Harshad number\");    \n",
    "else:    \n",
    "    print(\"Not a harshad number\"); "
   ]
  },
  {
   "cell_type": "code",
   "execution_count": 6,
   "metadata": {},
   "outputs": [
    {
     "name": "stdout",
     "output_type": "stream",
     "text": [
      "2\n",
      "6\n",
      "12\n",
      "20\n",
      "30\n",
      "42\n",
      "56\n",
      "72\n",
      "90\n"
     ]
    }
   ],
   "source": [
    "#6\n",
    "\n",
    "def isPronic(num):    \n",
    "    flag = 0\n",
    "    for j in range(1, num+1):      \n",
    "        if((j*(j+1)) == num):    \n",
    "            flag = 1 \n",
    "            break  \n",
    "    return flag   \n",
    " \n",
    "for i in range(1, 101):    \n",
    "    if(isPronic(i) == 1):    \n",
    "        print(i)    "
   ]
  },
  {
   "cell_type": "code",
   "execution_count": null,
   "metadata": {},
   "outputs": [],
   "source": []
  }
 ],
 "metadata": {
  "kernelspec": {
   "display_name": "Python 3",
   "language": "python",
   "name": "python3"
  },
  "language_info": {
   "codemirror_mode": {
    "name": "ipython",
    "version": 3
   },
   "file_extension": ".py",
   "mimetype": "text/x-python",
   "name": "python",
   "nbconvert_exporter": "python",
   "pygments_lexer": "ipython3",
   "version": "3.8.3"
  }
 },
 "nbformat": 4,
 "nbformat_minor": 4
}
