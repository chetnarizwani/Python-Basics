{
 "cells": [
  {
   "cell_type": "code",
   "execution_count": 1,
   "metadata": {},
   "outputs": [
    {
     "data": {
      "text/plain": [
       "'ssttrriinngg'"
      ]
     },
     "execution_count": 1,
     "metadata": {},
     "output_type": "execute_result"
    }
   ],
   "source": [
    "#1\n",
    "\n",
    "def double_char(s):\n",
    "    ns = \"\"\n",
    "    for i in s:\n",
    "        ns += i+i\n",
    "    return ns\n",
    "\n",
    "double_char(\"string\")"
   ]
  },
  {
   "cell_type": "code",
   "execution_count": 4,
   "metadata": {},
   "outputs": [
    {
     "name": "stdout",
     "output_type": "stream",
     "text": [
      "False\n",
      "boolean expected\n"
     ]
    }
   ],
   "source": [
    "#2\n",
    "\n",
    "def reverse(b):\n",
    "    if type(b) == bool:\n",
    "        return not b\n",
    "    else:\n",
    "        return 'boolean expected'\n",
    "    \n",
    "print(reverse(True))\n",
    "print(reverse(0))"
   ]
  },
  {
   "cell_type": "code",
   "execution_count": 10,
   "metadata": {},
   "outputs": [
    {
     "name": "stdout",
     "output_type": "stream",
     "text": [
      "0.008 m\n"
     ]
    }
   ],
   "source": [
    "#3\n",
    "\n",
    "def num_layers(n):\n",
    "    return ((2**(n-1))/1000)\n",
    "\n",
    "print(num_layers(4),'m')"
   ]
  },
  {
   "cell_type": "code",
   "execution_count": 11,
   "metadata": {},
   "outputs": [
    {
     "data": {
      "text/plain": [
       "[1]"
      ]
     },
     "execution_count": 11,
     "metadata": {},
     "output_type": "execute_result"
    }
   ],
   "source": [
    "#4\n",
    "\n",
    "def index_of_caps(s):\n",
    "    l = []\n",
    "    for i in s:\n",
    "        if i.isupper():\n",
    "            l.append(s.index(i))\n",
    "    return l\n",
    "\n",
    "index_of_caps(\"sUn\")"
   ]
  },
  {
   "cell_type": "code",
   "execution_count": 12,
   "metadata": {},
   "outputs": [
    {
     "data": {
      "text/plain": [
       "[2, 4, 6, 8]"
      ]
     },
     "execution_count": 12,
     "metadata": {},
     "output_type": "execute_result"
    }
   ],
   "source": [
    "#5\n",
    "\n",
    "def find_even_nums(n):\n",
    "    return [i for i in range(1,n+1) if i % 2 == 0]\n",
    "\n",
    "find_even_nums(8)"
   ]
  },
  {
   "cell_type": "code",
   "execution_count": null,
   "metadata": {},
   "outputs": [],
   "source": []
  }
 ],
 "metadata": {
  "kernelspec": {
   "display_name": "Python 3",
   "language": "python",
   "name": "python3"
  },
  "language_info": {
   "codemirror_mode": {
    "name": "ipython",
    "version": 3
   },
   "file_extension": ".py",
   "mimetype": "text/x-python",
   "name": "python",
   "nbconvert_exporter": "python",
   "pygments_lexer": "ipython3",
   "version": "3.8.3"
  }
 },
 "nbformat": 4,
 "nbformat_minor": 4
}
