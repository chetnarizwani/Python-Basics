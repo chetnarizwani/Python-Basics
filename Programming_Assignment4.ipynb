{
 "cells": [
  {
   "cell_type": "code",
   "execution_count": 2,
   "metadata": {},
   "outputs": [
    {
     "name": "stdout",
     "output_type": "stream",
     "text": [
      "5\n",
      "120\n"
     ]
    }
   ],
   "source": [
    "#1\n",
    "\n",
    "n = int(input())\n",
    "\n",
    "f = 1\n",
    "\n",
    "if n < 0:\n",
    "    print(\"Enter values greater than equal to 0\")\n",
    "elif n == 0:\n",
    "    print(1)\n",
    "else:\n",
    "    for i in range(1,n + 1):\n",
    "        f = f*i\n",
    "    print(f)"
   ]
  },
  {
   "cell_type": "code",
   "execution_count": 3,
   "metadata": {},
   "outputs": [
    {
     "name": "stdout",
     "output_type": "stream",
     "text": [
      "5\n",
      "5 x 1 = 5\n",
      "5 x 2 = 10\n",
      "5 x 3 = 15\n",
      "5 x 4 = 20\n",
      "5 x 5 = 25\n",
      "5 x 6 = 30\n",
      "5 x 7 = 35\n",
      "5 x 8 = 40\n",
      "5 x 9 = 45\n",
      "5 x 10 = 50\n"
     ]
    }
   ],
   "source": [
    "#2\n",
    "\n",
    "n = int(input())\n",
    "\n",
    "for i in range(1,11):\n",
    "    print(n, \"x\",i, \"=\",n*i)"
   ]
  },
  {
   "cell_type": "code",
   "execution_count": 4,
   "metadata": {},
   "outputs": [
    {
     "name": "stdout",
     "output_type": "stream",
     "text": [
      "5\n",
      "0\n",
      "1\n",
      "1\n",
      "2\n",
      "3\n"
     ]
    }
   ],
   "source": [
    "#3\n",
    "\n",
    "n = int(input())\n",
    "\n",
    "n1, n2 = 0, 1\n",
    "c = 0\n",
    "\n",
    "if n <= 0:\n",
    "    print(\"Please enter number greater than 0\")\n",
    "elif n == 1:\n",
    "    print(n1)\n",
    "else:\n",
    "    while c < n:\n",
    "        print(n1)\n",
    "        nxt = n1 + n2\n",
    "        n1 = n2\n",
    "        n2 = nxt\n",
    "        c += 1"
   ]
  },
  {
   "cell_type": "code",
   "execution_count": 8,
   "metadata": {},
   "outputs": [
    {
     "name": "stdout",
     "output_type": "stream",
     "text": [
      "407\n",
      "Armstrong\n"
     ]
    }
   ],
   "source": [
    "#4\n",
    "\n",
    "n = int(input())\n",
    "\n",
    "s = 0\n",
    "\n",
    "t = n\n",
    "while t > 0:\n",
    "    rem = t % 10\n",
    "    s += rem ** 3\n",
    "    t //= 10\n",
    "\n",
    "if n == s:\n",
    "    print(\"Armstrong\")\n",
    "else:\n",
    "    print(\"Not Armstrong\")"
   ]
  },
  {
   "cell_type": "code",
   "execution_count": 10,
   "metadata": {},
   "outputs": [
    {
     "name": "stdout",
     "output_type": "stream",
     "text": [
      "1\n",
      "1000\n"
     ]
    },
    {
     "data": {
      "text/plain": [
       "[1, 153, 370, 371, 407]"
      ]
     },
     "execution_count": 10,
     "metadata": {},
     "output_type": "execute_result"
    }
   ],
   "source": [
    "#5\n",
    "\n",
    "a = int(input())\n",
    "b = int(input())\n",
    "l = []\n",
    "for i in range(a,b+1):\n",
    "    s = 0\n",
    "    t = i\n",
    "    while t > 0:\n",
    "        rem = t % 10\n",
    "        s += rem ** 3\n",
    "        t //= 10\n",
    "\n",
    "    if i == s:\n",
    "        l.append(i)\n",
    "        \n",
    "l"
   ]
  },
  {
   "cell_type": "code",
   "execution_count": 11,
   "metadata": {},
   "outputs": [
    {
     "name": "stdout",
     "output_type": "stream",
     "text": [
      "5\n"
     ]
    },
    {
     "data": {
      "text/plain": [
       "15"
      ]
     },
     "execution_count": 11,
     "metadata": {},
     "output_type": "execute_result"
    }
   ],
   "source": [
    "#6\n",
    "\n",
    "n = int(input())\n",
    "s = 0\n",
    "for i in range(n+1):\n",
    "    s += i\n",
    "s"
   ]
  },
  {
   "cell_type": "code",
   "execution_count": null,
   "metadata": {},
   "outputs": [],
   "source": []
  }
 ],
 "metadata": {
  "kernelspec": {
   "display_name": "Python 3",
   "language": "python",
   "name": "python3"
  },
  "language_info": {
   "codemirror_mode": {
    "name": "ipython",
    "version": 3
   },
   "file_extension": ".py",
   "mimetype": "text/x-python",
   "name": "python",
   "nbconvert_exporter": "python",
   "pygments_lexer": "ipython3",
   "version": "3.8.3"
  }
 },
 "nbformat": 4,
 "nbformat_minor": 4
}
